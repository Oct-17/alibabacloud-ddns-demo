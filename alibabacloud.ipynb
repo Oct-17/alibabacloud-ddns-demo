{
 "cells": [
  {
   "cell_type": "markdown",
   "id": "5ab96793",
   "metadata": {},
   "source": [
    "### 安装依赖包 \n",
    "\n",
    "```sh\n",
    "uv add alibabacloud_alidns20150109 alibabacloud_credentials alibabacloud_tea_openapi alibabacloud_tea_util alibabacloud_tea_console\n",
    "```"
   ]
  },
  {
   "cell_type": "markdown",
   "id": "e962443c",
   "metadata": {},
   "source": [
    "初始化配置对象 ```alibabacloud_tea_openapi.Config``` 。\n",
    "```Config``` 对象存放存放 ```access_key_id``` 、```access_key_secret``` 和 ```endpoint``` 等配置，Endpoint 请参考 https://api.aliyun.com/product/Alidns"
   ]
  },
  {
   "cell_type": "code",
   "execution_count": 8,
   "id": "eb3c57fd",
   "metadata": {},
   "outputs": [],
   "source": [
    "import os\n",
    "import dotenv\n",
    "from alibabacloud_tea_openapi import models as open_api_models\n",
    "\n",
    "dotenv.load_dotenv()\n",
    "\n",
    "access_key_id = os.getenv('ACCESS_KEY_ID')\n",
    "access_key_secret = os.getenv('ACCESS_KEY_SECRET')\n",
    "\n",
    "if access_key_id is None or access_key_secret is None:\n",
    "    raise ValueError(\"ACCESS_KEY_ID and ACCESS_KEY_SECRET must be set in environment variables.\")\n",
    "\n",
    "\n",
    "config = open_api_models.Config(\n",
    "    access_key_id=access_key_id,\n",
    "    access_key_secret=access_key_secret,\n",
    "    endpoint='dns.aliyuncs.com'\n",
    ")"
   ]
  },
  {
   "cell_type": "markdown",
   "metadata": {},
   "source": [
    "实例化一个客户端，从 ```alibabacloud_alidns20150109.Client``` 类生成对象 ```client``` 。 \n",
    "后续 ```request```、```response``` 从 ```alibabacloud_alidns20150109.models``` 中获得。"
   ]
  },
  {
   "cell_type": "code",
   "execution_count": 9,
   "id": "09b6540a",
   "metadata": {},
   "outputs": [],
   "source": [
    "from alibabacloud_alidns20150109.client import Client\n",
    "\n",
    "client = Client(config)"
   ]
  },
  {
   "cell_type": "markdown",
   "id": "efd1685f",
   "metadata": {},
   "source": [
    "创建对应 API 的 ```Request``` 。 方法的命名规则为 API 名称加上 ```Request``` 。"
   ]
  },
  {
   "cell_type": "code",
   "execution_count": 10,
   "id": "f3e357fb",
   "metadata": {},
   "outputs": [],
   "source": [
    "from alibabacloud_alidns20150109 import models\n",
    "\n",
    "request = models.DescribeDomainRecordsRequest()"
   ]
  },
  {
   "cell_type": "markdown",
   "id": "202b08eb",
   "metadata": {},
   "source": [
    "设置请求类 ```request``` 的参数。 通过设置 ```request``` 类的属性设置参数，即 API 中必须要提供的信息。例如："
   ]
  },
  {
   "cell_type": "code",
   "execution_count": 11,
   "id": "b0fa8bc0",
   "metadata": {},
   "outputs": [],
   "source": [
    "request.lang = 'zh'\n",
    "request.domain_name = '3ncounter.cn'"
   ]
  },
  {
   "cell_type": "markdown",
   "id": "1587261f",
   "metadata": {},
   "source": [
    "通过 client 对象获得对应 ```request``` 响应 response 。"
   ]
  },
  {
   "cell_type": "code",
   "execution_count": 12,
   "id": "f24dce8b",
   "metadata": {},
   "outputs": [
    {
     "name": "stdout",
     "output_type": "stream",
     "text": [
      "{'DomainRecords': {'Record': [{'CreateTimestamp': 1750923857189, 'DomainName': '3ncounter.cn', 'Line': 'default', 'Locked': False, 'RR': 'ddns', 'RecordId': '1938141249295366144', 'Status': 'ENABLE', 'TTL': 600, 'Type': 'AAAA', 'UpdateTimestamp': 1750923857412, 'Value': '240e:331:208e:b900:820f:42a2:d3f7:a30b', 'Weight': 1}, {'CreateTimestamp': 1717405995000, 'DomainName': '3ncounter.cn', 'Line': 'default', 'Locked': False, 'RR': 'github', 'RecordId': '898778572241994752', 'Status': 'ENABLE', 'TTL': 600, 'Type': 'CNAME', 'UpdateTimestamp': 1717405995000, 'Value': 'oct-17.github.io', 'Weight': 1}]}, 'PageNumber': 1, 'PageSize': 20, 'RequestId': '2FCE5545-A1CB-5882-B39D-C5788621F56E', 'TotalCount': 2}\n"
     ]
    }
   ],
   "source": [
    "response = client.describe_domain_records(request)\n",
    "print(response.body)"
   ]
  },
  {
   "cell_type": "code",
   "execution_count": 18,
   "id": "228c9bf5",
   "metadata": {},
   "outputs": [],
   "source": [
    "def getDomainRecords():\n",
    "    # 解析记录列表\n",
    "    request = models.DescribeDomainRecordsRequest()\n",
    "    request.lang = 'zh'\n",
    "    request.domain_name = '3ncounter.cn'\n",
    "    response = client.describe_domain_records(request)\n",
    "    return response\n",
    "\n",
    "def deleteDomainRecords(record_id):\n",
    "    # 删除解析记录\n",
    "    request = models.DeleteDomainRecordRequest()\n",
    "    request.record_id = record_id\n",
    "    response = client.delete_domain_record(request)\n",
    "    return response\n",
    "\n",
    "def updateDomainRecord(record_id, rr, value):\n",
    "    # 更新解析记录\n",
    "    request = models.UpdateDomainRecordRequest()\n",
    "    request.record_id = record_id\n",
    "    request.rr = rr\n",
    "    request.value = value\n",
    "    request.type = 'AAAA'\n",
    "    response = client.update_domain_record(request)\n",
    "    return response"
   ]
  },
  {
   "cell_type": "code",
   "execution_count": null,
   "id": "e4674d4f",
   "metadata": {},
   "outputs": [
    {
     "name": "stdout",
     "output_type": "stream",
     "text": [
      "46.232.121.49\n",
      "2407:cdc0:b010::49\n"
     ]
    }
   ],
   "source": [
    "import requests\n",
    "\n",
    "ipv6 = 'http://ipv6.lookup.test-ipv6.com/ip/'\n",
    "ipv4 = 'http://ipv4.lookup.test-ipv6.com/ip/'\n",
    "\n",
    "def getIpv6():\n",
    "    ipv6res = requests.get(ipv6)\n",
    "    return ipv6res.json()['ip']\n",
    "\n",
    "def getIpv4():\n",
    "    ipv4res = requests.get(ipv4)\n",
    "    return ipv4res.json()['ip']\n",
    "\n",
    "print(getIpv4())\n",
    "print(getIpv6())"
   ]
  },
  {
   "cell_type": "code",
   "execution_count": 19,
   "id": "8ed088d3",
   "metadata": {},
   "outputs": [
    {
     "name": "stdout",
     "output_type": "stream",
     "text": [
      "{'headers': {'date': 'Thu, 26 Jun 2025 09:10:24 GMT', 'content-type': 'application/json;charset=utf-8', 'content-length': '85', 'connection': 'keep-alive', 'keep-alive': 'timeout=25', 'access-control-allow-origin': '*', 'access-control-expose-headers': '*', 'x-acs-request-id': 'A1B8D9F6-DB6B-5CE9-89AD-1227AA8E53CF', 'x-acs-trace-id': '6e89b3d6130ef2e5ca87120c897b1c31', 'etag': '8mXOuhqhACr6AgW1HnG8ksw5'}, 'statusCode': 200, 'body': {'RecordId': '1938141249295366144', 'RequestId': 'A1B8D9F6-DB6B-5CE9-89AD-1227AA8E53CF'}}\n"
     ]
    }
   ],
   "source": [
    "# import requests\n",
    "\n",
    "# res = requests.get('http://ip-api.com/json')\n",
    "# print(res.json())\n",
    "\n",
    "# 获取域名解析记录列表\n",
    "res = getDomainRecords()\n",
    "\n",
    "aaaaRecord = None\n",
    "\n",
    "for item in res.body.domain_records.record:\n",
    "    if item.type == 'AAAA':\n",
    "        aaaaRecord = item\n",
    "        break\n",
    "\n",
    "if aaaaRecord is not None:\n",
    "    ipv6 = getIpv6()\n",
    "    ret = updateDomainRecord(aaaaRecord.record_id, aaaaRecord.rr, ipv6)\n",
    "    print(ret)"
   ]
  },
  {
   "cell_type": "code",
   "execution_count": 16,
   "id": "fcb37828",
   "metadata": {},
   "outputs": [],
   "source": [
    "# 删除指定的解析记录\n",
    "# res = deleteDomainRecords('895164709898411008')"
   ]
  },
  {
   "cell_type": "markdown",
   "id": "a968a59d",
   "metadata": {},
   "source": [
    "使用 try...except... 处理报错。"
   ]
  },
  {
   "cell_type": "code",
   "execution_count": 17,
   "id": "dc1c2556",
   "metadata": {},
   "outputs": [],
   "source": [
    "\n",
    "# from Tea.exceptions import UnretryableException\n",
    "\n",
    "# try:\n",
    "#     response = client.add_custom_line(request)\n",
    "#     print(response)\n",
    "# except UnretryableException as e:\n",
    "#     print(e)\n",
    "# except Exception as e:\n",
    "#     print(e)"
   ]
  }
 ],
 "metadata": {
  "kernelspec": {
   "display_name": "alibabacloud-ddns-demo",
   "language": "python",
   "name": "python3"
  },
  "language_info": {
   "codemirror_mode": {
    "name": "ipython",
    "version": 3
   },
   "file_extension": ".py",
   "mimetype": "text/x-python",
   "name": "python",
   "nbconvert_exporter": "python",
   "pygments_lexer": "ipython3",
   "version": "3.11.12"
  }
 },
 "nbformat": 4,
 "nbformat_minor": 5
}
