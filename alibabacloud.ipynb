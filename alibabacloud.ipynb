{
 "cells": [
  {
   "cell_type": "markdown",
   "id": "5ab96793",
   "metadata": {},
   "source": [
    "### 安装依赖包 \n",
    "\n",
    "```sh\n",
    "uv add alibabacloud_alidns20150109 alibabacloud_credentials alibabacloud_tea_openapi alibabacloud_tea_util alibabacloud_tea_console\n",
    "```"
   ]
  },
  {
   "cell_type": "markdown",
   "id": "e962443c",
   "metadata": {},
   "source": [
    "初始化配置对象 ```alibabacloud_tea_openapi.Config``` 。\n",
    "```Config``` 对象存放存放 ```access_key_id``` 、```access_key_secret``` 和 ```endpoint``` 等配置，Endpoint 请参考 https://api.aliyun.com/product/Alidns"
   ]
  },
  {
   "cell_type": "code",
   "execution_count": null,
   "id": "eb3c57fd",
   "metadata": {},
   "outputs": [],
   "source": [
    "import os\n",
    "import dotenv\n",
    "from alibabacloud_tea_openapi import models as open_api_models\n",
    "\n",
    "dotenv.load_dotenv()\n",
    "\n",
    "access_key_id = os.getenv('ACCESS_KEY_ID')\n",
    "access_key_secret = os.getenv('ACCESS_KEY_SECRET')\n",
    "\n",
    "if access_key_id is None or access_key_secret is None:\n",
    "    raise ValueError(\"ACCESS_KEY_ID and ACCESS_KEY_SECRET must be set in environment variables.\")\n",
    "\n",
    "\n",
    "config = open_api_models.Config(\n",
    "    access_key_id=access_key_id,\n",
    "    access_key_secret=access_key_secret,\n",
    "    endpoint='dns.aliyuncs.com'\n",
    ")"
   ]
  },
  {
   "cell_type": "markdown",
   "metadata": {},
   "source": [
    "实例化一个客户端，从 ```alibabacloud_alidns20150109.Client``` 类生成对象 ```client``` 。 \n",
    "后续 ```request```、```response``` 从 ```alibabacloud_alidns20150109.models``` 中获得。"
   ]
  },
  {
   "cell_type": "code",
   "execution_count": null,
   "id": "09b6540a",
   "metadata": {},
   "outputs": [],
   "source": [
    "from alibabacloud_alidns20150109.client import Client\n",
    "\n",
    "client = Client(config)"
   ]
  },
  {
   "cell_type": "markdown",
   "id": "efd1685f",
   "metadata": {},
   "source": [
    "创建对应 API 的 ```Request``` 。 方法的命名规则为 API 名称加上 ```Request``` 。"
   ]
  },
  {
   "cell_type": "code",
   "execution_count": null,
   "id": "f3e357fb",
   "metadata": {},
   "outputs": [],
   "source": [
    "from alibabacloud_alidns20150109 import models\n",
    "\n",
    "request = models.DescribeDomainRecordsRequest()"
   ]
  },
  {
   "cell_type": "markdown",
   "id": "202b08eb",
   "metadata": {},
   "source": [
    "设置请求类 ```request``` 的参数。 通过设置 ```request``` 类的属性设置参数，即 API 中必须要提供的信息。例如："
   ]
  },
  {
   "cell_type": "code",
   "execution_count": null,
   "id": "b0fa8bc0",
   "metadata": {},
   "outputs": [],
   "source": [
    "request.lang = 'zh'\n",
    "request.domain_name = '3ncounter.cn'"
   ]
  },
  {
   "cell_type": "markdown",
   "id": "1587261f",
   "metadata": {},
   "source": [
    "通过 client 对象获得对应 ```request``` 响应 response 。"
   ]
  },
  {
   "cell_type": "code",
   "execution_count": null,
   "id": "f24dce8b",
   "metadata": {},
   "outputs": [],
   "source": [
    "response = client.describe_domain_records(request)\n",
    "print(response.body)"
   ]
  },
  {
   "cell_type": "code",
   "execution_count": null,
   "id": "228c9bf5",
   "metadata": {},
   "outputs": [],
   "source": [
    "def getDomainRecords():\n",
    "    # 解析记录列表\n",
    "    request = models.DescribeDomainRecordsRequest()\n",
    "    request.lang = 'zh'\n",
    "    request.domain_name = '3ncounter.cn'\n",
    "    response = client.describe_domain_records(request)\n",
    "    return response\n",
    "\n",
    "def deleteDomainRecords(record_id):\n",
    "    # 删除解析记录\n",
    "    request = models.DeleteDomainRecordRequest()\n",
    "    request.record_id = record_id\n",
    "    response = client.delete_domain_record(request)\n",
    "    return response\n",
    "\n",
    "def updateDomainRecord(record_id, rr, value, ttl):\n",
    "    # 更新解析记录\n",
    "    request = models.UpdateDomainRecordRequest()\n",
    "    request.record_id = record_id\n",
    "    request.rr = rr\n",
    "    request.type = 'AAAA'\n",
    "    request.value = value\n",
    "    request.ttl = ttl\n",
    "    response = client.update_domain_record(request)\n",
    "    return response"
   ]
  },
  {
   "cell_type": "code",
   "execution_count": null,
   "id": "8ed088d3",
   "metadata": {},
   "outputs": [
    {
     "name": "stdout",
     "output_type": "stream",
     "text": [
      "{'status': 'success', 'country': 'China', 'countryCode': 'CN', 'region': 'CQ', 'regionName': 'Chongqing', 'city': 'Chongqing', 'zip': '', 'lat': 29.5657, 'lon': 106.551, 'timezone': 'Asia/Shanghai', 'isp': 'China Unicom Chongqing Province Network', 'org': '', 'as': 'AS4837 CHINA UNICOM China169 Backbone', 'query': '27.10.94.48'}\n",
      "{'CreateTimestamp': 1750923857189, 'DomainName': '3ncounter.cn', 'Line': 'default', 'Locked': False, 'RR': 'ddns', 'RecordId': '1938141249295366144', 'Status': 'ENABLE', 'TTL': 600, 'Type': 'AAAA', 'UpdateTimestamp': 1750923857412, 'Value': '240e:331:208e:b900:820f:42a2:d3f7:a30b', 'Weight': 1}\n"
     ]
    }
   ],
   "source": [
    "# import requests\n",
    "\n",
    "# res = requests.get('http://ip-api.com/json')\n",
    "# print(res.json())\n",
    "\n",
    "# 获取域名解析记录列表\n",
    "res = getDomainRecords()\n",
    "\n",
    "aaaaRecord = None\n",
    "\n",
    "for item in res.body.domain_records.record:\n",
    "    if item.type == 'AAAA':\n",
    "        aaaaRecord = item\n",
    "        break\n",
    "\n",
    "if aaaaRecord is not None:\n",
    "    print(aaaaRecord)"
   ]
  },
  {
   "cell_type": "code",
   "execution_count": null,
   "id": "fcb37828",
   "metadata": {},
   "outputs": [],
   "source": [
    "# 删除指定的解析记录\n",
    "res = deleteDomainRecords('895164709898411008')"
   ]
  },
  {
   "cell_type": "code",
   "execution_count": 48,
   "id": "eaa678f4",
   "metadata": {},
   "outputs": [
    {
     "data": {
      "text/plain": [
       "[(<AddressFamily.AF_INET: 2>,\n",
       "  <SocketKind.SOCK_DGRAM: 2>,\n",
       "  17,\n",
       "  '',\n",
       "  ('127.0.0.1', 80)),\n",
       " (<AddressFamily.AF_INET: 2>,\n",
       "  <SocketKind.SOCK_STREAM: 1>,\n",
       "  6,\n",
       "  '',\n",
       "  ('127.0.0.1', 80)),\n",
       " (<AddressFamily.AF_INET6: 30>,\n",
       "  <SocketKind.SOCK_DGRAM: 2>,\n",
       "  17,\n",
       "  '',\n",
       "  ('::1', 80, 0, 0)),\n",
       " (<AddressFamily.AF_INET6: 30>,\n",
       "  <SocketKind.SOCK_STREAM: 1>,\n",
       "  6,\n",
       "  '',\n",
       "  ('::1', 80, 0, 0))]"
      ]
     },
     "execution_count": 48,
     "metadata": {},
     "output_type": "execute_result"
    }
   ],
   "source": [
    "import socket\n",
    "\n",
    "res = socket.getaddrinfo('localhost', 80)\n",
    "res"
   ]
  },
  {
   "cell_type": "markdown",
   "id": "a968a59d",
   "metadata": {},
   "source": [
    "使用 try...except... 处理报错。"
   ]
  },
  {
   "cell_type": "code",
   "execution_count": null,
   "id": "dc1c2556",
   "metadata": {},
   "outputs": [],
   "source": [
    "\n",
    "# from Tea.exceptions import UnretryableException\n",
    "\n",
    "# try:\n",
    "#     response = client.add_custom_line(request)\n",
    "#     print(response)\n",
    "# except UnretryableException as e:\n",
    "#     print(e)\n",
    "# except Exception as e:\n",
    "#     print(e)"
   ]
  },
  {
   "cell_type": "code",
   "execution_count": 90,
   "id": "311c601f",
   "metadata": {},
   "outputs": [
    {
     "name": "stdout",
     "output_type": "stream",
     "text": [
      "46.232.121.49\n",
      "2407:cdc0:b010::49\n"
     ]
    }
   ],
   "source": [
    "import requests\n",
    "import json\n",
    "\n",
    "ipv6 = 'http://ipv6.lookup.test-ipv6.com/ip/?callback=_jqjsp&asn=1&testdomain=test-ipv6.fratec.net&testname=test_asn6'\n",
    "ipv4 = 'http://ipv4.lookup.test-ipv6.com/ip/?callback=_jqjsp&asn=1&testdomain=test-ipv6.fratec.net&testname=test_asn4'\n",
    "\n",
    "\n",
    "ipv4res = requests.get(ipv4)\n",
    "ipv6res = requests.get(ipv6)\n",
    "\n",
    "print(json.loads(ipv4res.text.replace('_jqjsp(', '').replace(')', ''))['ip'])\n",
    "print(json.loads(ipv6res.text.replace('_jqjsp(', '').replace(')', ''))['ip'])\n"
   ]
  },
  {
   "cell_type": "markdown",
   "id": "75b6485d",
   "metadata": {},
   "source": []
  }
 ],
 "metadata": {
  "kernelspec": {
   "display_name": "7a52d9f9-59b0-43bd-96fc-8d475220f56f-Python",
   "language": "python",
   "name": "python3"
  },
  "language_info": {
   "codemirror_mode": {
    "name": "ipython",
    "version": 3
   },
   "file_extension": ".py",
   "mimetype": "text/x-python",
   "name": "python",
   "nbconvert_exporter": "python",
   "pygments_lexer": "ipython3",
   "version": "3.11.12"
  }
 },
 "nbformat": 4,
 "nbformat_minor": 5
}
