{
 "cells": [
  {
   "cell_type": "code",
   "execution_count": null,
   "id": "1151a77b",
   "metadata": {},
   "outputs": [
    {
     "name": "stdout",
     "output_type": "stream",
     "text": [
      "本机IPv4地址为: 127.0.0.1\n"
     ]
    }
   ],
   "source": [
    "# 获取本机IPv4地址\n",
    "# 已有变量 hostname 和 ip_address 可用，无需导入 socket\n",
    "\n",
    "# 打印 IPv4 地址"
   ]
  },
  {
   "cell_type": "code",
   "execution_count": 5,
   "id": "41c0a20a",
   "metadata": {},
   "outputs": [
    {
     "data": {
      "text/plain": [
       "[snicaddr(family=<AddressFamily.AF_INET: 2>, address='172.16.40.21', netmask='255.255.255.0', broadcast='172.16.40.255', ptp=None),\n",
       " snicaddr(family=<AddressFamily.AF_LINK: 18>, address='fa:86:af:66:9f:6e', netmask=None, broadcast=None, ptp=None),\n",
       " snicaddr(family=<AddressFamily.AF_INET6: 30>, address='fe80::1ccb:2cb4:ce9:4580%en0', netmask='ffff:ffff:ffff:ffff::', broadcast=None, ptp=None)]"
      ]
     },
     "execution_count": 5,
     "metadata": {},
     "output_type": "execute_result"
    }
   ],
   "source": [
    "import psutil\n",
    "\n",
    "psutil.net_if_addrs().get('en0')"
   ]
  },
  {
   "cell_type": "code",
   "execution_count": null,
   "id": "d8977fd3",
   "metadata": {},
   "outputs": [],
   "source": []
  },
  {
   "cell_type": "code",
   "execution_count": null,
   "id": "9d9ca4e1",
   "metadata": {},
   "outputs": [],
   "source": []
  },
  {
   "cell_type": "code",
   "execution_count": null,
   "id": "7ab6b6f5",
   "metadata": {},
   "outputs": [],
   "source": []
  }
 ],
 "metadata": {
  "kernelspec": {
   "display_name": "Python 3",
   "language": "python",
   "name": "python3"
  },
  "language_info": {
   "codemirror_mode": {
    "name": "ipython",
    "version": 3
   },
   "file_extension": ".py",
   "mimetype": "text/x-python",
   "name": "python",
   "nbconvert_exporter": "python",
   "pygments_lexer": "ipython3",
   "version": "3.12.9"
  }
 },
 "nbformat": 4,
 "nbformat_minor": 5
}
